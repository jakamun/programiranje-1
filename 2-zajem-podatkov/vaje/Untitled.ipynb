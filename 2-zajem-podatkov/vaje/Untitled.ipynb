{
 "cells": [
  {
   "cell_type": "markdown",
   "metadata": {},
   "source": [
    "# Macke\n",
    "To je del tretjih vaj."
   ]
  },
  {
   "cell_type": "markdown",
   "metadata": {},
   "source": [
    "Uvozimo python file macke."
   ]
  },
  {
   "cell_type": "code",
   "execution_count": 11,
   "metadata": {},
   "outputs": [],
   "source": [
    "import macke"
   ]
  },
  {
   "cell_type": "markdown",
   "metadata": {},
   "source": [
    "Za uvod je treba pobrati podatke z interneta in jih shraniti."
   ]
  },
  {
   "cell_type": "code",
   "execution_count": 10,
   "metadata": {},
   "outputs": [
    {
     "ename": "TypeError",
     "evalue": "save_frontpage() takes 1 positional argument but 2 were given",
     "output_type": "error",
     "traceback": [
      "\u001b[1;31m---------------------------------------------------------------------------\u001b[0m",
      "\u001b[1;31mTypeError\u001b[0m                                 Traceback (most recent call last)",
      "\u001b[1;32m<ipython-input-10-06e13a1f94ba>\u001b[0m in \u001b[0;36m<module>\u001b[1;34m\u001b[0m\n\u001b[0;32m      1\u001b[0m \u001b[0murl_mack\u001b[0m \u001b[1;33m=\u001b[0m \u001b[1;34m'http://www.bolha.com/zivali/male-zivali/macke/'\u001b[0m\u001b[1;33m\u001b[0m\u001b[0m\n\u001b[0;32m      2\u001b[0m \u001b[0mfrontpage_filename\u001b[0m \u001b[1;33m=\u001b[0m \u001b[1;34m'frontpage.html'\u001b[0m\u001b[1;33m\u001b[0m\u001b[0m\n\u001b[1;32m----> 3\u001b[1;33m \u001b[0mmacke\u001b[0m\u001b[1;33m.\u001b[0m\u001b[0msave_frontpage\u001b[0m\u001b[1;33m(\u001b[0m\u001b[0murl_mack\u001b[0m\u001b[1;33m,\u001b[0m \u001b[0mfrontpage_filename\u001b[0m\u001b[1;33m)\u001b[0m\u001b[1;33m\u001b[0m\u001b[0m\n\u001b[0m",
      "\u001b[1;31mTypeError\u001b[0m: save_frontpage() takes 1 positional argument but 2 were given"
     ]
    }
   ],
   "source": [
    "url_mack = 'http://www.bolha.com/zivali/male-zivali/macke/'\n",
    "frontpage_filename = 'frontpage.html'\n",
    "macke.save_frontpage(url_mack, frontpage_filename)"
   ]
  },
  {
   "cell_type": "code",
   "execution_count": null,
   "metadata": {},
   "outputs": [],
   "source": []
  }
 ],
 "metadata": {
  "kernelspec": {
   "display_name": "Python 3",
   "language": "python",
   "name": "python3"
  },
  "language_info": {
   "codemirror_mode": {
    "name": "ipython",
    "version": 3
   },
   "file_extension": ".py",
   "mimetype": "text/x-python",
   "name": "python",
   "nbconvert_exporter": "python",
   "pygments_lexer": "ipython3",
   "version": "3.7.0"
  }
 },
 "nbformat": 4,
 "nbformat_minor": 2
}
