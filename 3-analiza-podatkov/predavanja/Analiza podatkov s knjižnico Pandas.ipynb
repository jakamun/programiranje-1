{
 "cells": [
  {
   "cell_type": "markdown",
   "metadata": {},
   "source": [
    "# Analiza podatkov s knjižnico Pandas\n",
    "\n",
    "Spodaj je pregled najosnovnejših metod, ki jih ponuja knjižnica Pandas. Vsaka od naštetih metod ponuja še cel kup dodatnih možnosti, ki so natančno opisane v [uradni dokumentaciji](http://pandas.pydata.org/pandas-docs/stable/). Z branjem dokumentacije se vam seveda najbolj splača začeti pri [uvodih](http://pandas.pydata.org/pandas-docs/stable/tutorials.html)."
   ]
  },
  {
   "cell_type": "markdown",
   "metadata": {},
   "source": [
    "## Predpriprava"
   ]
  },
  {
   "cell_type": "code",
   "execution_count": 1,
   "metadata": {},
   "outputs": [],
   "source": [
    "# naložimo paket\n",
    "import pandas as pd\n",
    "\n",
    "# naložimo razpredelnico, s katero bomo delali\n",
    "filmi = pd.read_csv('obdelani-podatki/filmi.csv', index_col='id')\n",
    "\n",
    "# ker bomo delali z velikimi razpredelnicami, povemo, da naj se vedno izpiše le 20 vrstic\n",
    "pd.options.display.max_rows = 20"
   ]
  },
  {
   "cell_type": "code",
   "execution_count": null,
   "metadata": {},
   "outputs": [],
   "source": [
    "filmi"
   ]
  },
  {
   "cell_type": "markdown",
   "metadata": {},
   "source": [
    "## Osnovni izbori elementov razpredelnic"
   ]
  },
  {
   "cell_type": "markdown",
   "metadata": {},
   "source": [
    "Z metodo `.head(n=5)` pogledamo prvih `n`, z metodo `.tail(n=5)` pa zadnjih `n` vrstic razpredelnice."
   ]
  },
  {
   "cell_type": "code",
   "execution_count": null,
   "metadata": {},
   "outputs": [],
   "source": [
    "filmi.head(10)"
   ]
  },
  {
   "cell_type": "code",
   "execution_count": null,
   "metadata": {},
   "outputs": [],
   "source": [
    "filmi.tail()"
   ]
  },
  {
   "cell_type": "markdown",
   "metadata": {},
   "source": [
    "Z rezinami pa dostopamo do izbranih vrstic."
   ]
  },
  {
   "cell_type": "code",
   "execution_count": null,
   "metadata": {},
   "outputs": [],
   "source": [
    "filmi[3:10:2]"
   ]
  },
  {
   "cell_type": "markdown",
   "metadata": {},
   "source": [
    "Z indeksiranjem razpredelnice dostopamo do posameznih stolpcev."
   ]
  },
  {
   "cell_type": "code",
   "execution_count": null,
   "metadata": {
    "scrolled": true
   },
   "outputs": [],
   "source": [
    "filmi['ocena']"
   ]
  },
  {
   "cell_type": "markdown",
   "metadata": {},
   "source": [
    "Do stolpcev pogosto dostopamo, zato lahko uporabimo tudi krajši zapis."
   ]
  },
  {
   "cell_type": "code",
   "execution_count": null,
   "metadata": {},
   "outputs": [],
   "source": [
    "filmi.ocena"
   ]
  },
  {
   "cell_type": "markdown",
   "metadata": {},
   "source": [
    "Če želimo več stolpcev, moramo za indeks podati seznam vseh oznak."
   ]
  },
  {
   "cell_type": "code",
   "execution_count": null,
   "metadata": {
    "scrolled": false
   },
   "outputs": [],
   "source": [
    "filmi[['naslov', 'ocena']]"
   ]
  },
  {
   "cell_type": "markdown",
   "metadata": {},
   "source": [
    "Do vrednosti z indeksom `i` dostopamo z `.iloc[i]`, do tiste s ključem `k` pa z `.loc[k]`."
   ]
  },
  {
   "cell_type": "code",
   "execution_count": null,
   "metadata": {
    "scrolled": true
   },
   "outputs": [],
   "source": [
    "filmi.iloc[len(filmi)-1]"
   ]
  },
  {
   "cell_type": "code",
   "execution_count": null,
   "metadata": {},
   "outputs": [],
   "source": [
    "filmi.loc[7784604]"
   ]
  },
  {
   "cell_type": "markdown",
   "metadata": {},
   "source": [
    "## Filtriranje"
   ]
  },
  {
   "cell_type": "markdown",
   "metadata": {},
   "source": [
    "Izbor določenih vrstic razpredelnice naredimo tako, da za indeks podamo stolpec logičnih vrednosti, ki ga dobimo z običajnimi operacijami. V vrnjeni razpredelnici bodo ostale vrstice, pri katerih je v stolpcu vrednost `True`."
   ]
  },
  {
   "cell_type": "code",
   "execution_count": null,
   "metadata": {
    "scrolled": true
   },
   "outputs": [],
   "source": [
    "filmi.ocena >= 8"
   ]
  },
  {
   "cell_type": "code",
   "execution_count": null,
   "metadata": {
    "scrolled": false
   },
   "outputs": [],
   "source": [
    "filmi[filmi.ocena >= 8]"
   ]
  },
  {
   "cell_type": "code",
   "execution_count": null,
   "metadata": {},
   "outputs": [],
   "source": [
    "filmi[(filmi.leto > 2010) & (filmi.ocena > 8)]"
   ]
  },
  {
   "cell_type": "markdown",
   "metadata": {},
   "source": [
    "### Naloga\n",
    "\n",
    "Poiščite filme, ki si jih želimo izogniti za vsako ceno, torej tiste, ki so daljši od dveh ur in imajo oceno pod 6.5."
   ]
  },
  {
   "cell_type": "code",
   "execution_count": null,
   "metadata": {},
   "outputs": [],
   "source": [
    "filmi[(filmi.ocena < 6.5) & (filmi.dolzina > 120)]"
   ]
  },
  {
   "cell_type": "markdown",
   "metadata": {},
   "source": [
    "## Urejanje"
   ]
  },
  {
   "cell_type": "markdown",
   "metadata": {},
   "source": [
    "Razpredelnico urejamo z metodo `.sort_values`, ki ji podamo ime ali seznam imen stolpcev, po katerih želimo urejati. Po želji lahko tudi povemo, kateri stolpci naj bodo urejeni naraščajoče in kateri padajoče."
   ]
  },
  {
   "cell_type": "code",
   "execution_count": null,
   "metadata": {},
   "outputs": [],
   "source": [
    "filmi.sort_values('leto', ascending=False)"
   ]
  },
  {
   "cell_type": "code",
   "execution_count": null,
   "metadata": {
    "scrolled": false
   },
   "outputs": [],
   "source": [
    "# najprej uredi padajoče po oceni, pri vsaki oceni pa še naraščajoče po letu\n",
    "filmi.sort_values(['ocena', 'leto'], ascending=[False, True])"
   ]
  },
  {
   "cell_type": "markdown",
   "metadata": {},
   "source": [
    "## Združevanje"
   ]
  },
  {
   "cell_type": "markdown",
   "metadata": {},
   "source": [
    "Z metodo `.groupby` ustvarimo razpredelnico posebne vrste, v katerem so vrstice združene glede na skupno lastnost."
   ]
  },
  {
   "cell_type": "code",
   "execution_count": 2,
   "metadata": {},
   "outputs": [],
   "source": [
    "filmi_po_letih = filmi.groupby('leto')"
   ]
  },
  {
   "cell_type": "code",
   "execution_count": null,
   "metadata": {},
   "outputs": [],
   "source": [
    "filmi_po_letih"
   ]
  },
  {
   "cell_type": "code",
   "execution_count": null,
   "metadata": {},
   "outputs": [],
   "source": [
    "# povprečna ocena vsakega leta\n",
    "filmi_po_letih.ocena.mean()"
   ]
  },
  {
   "cell_type": "markdown",
   "metadata": {},
   "source": [
    "Če želimo, lahko združujemo tudi po izračunanih lastnostih. Izračunajmo stolpec in ga shranimo v razpredelnico."
   ]
  },
  {
   "cell_type": "code",
   "execution_count": 3,
   "metadata": {},
   "outputs": [],
   "source": [
    "filmi['desetletje'] = 10 * (filmi.leto // 10)"
   ]
  },
  {
   "cell_type": "code",
   "execution_count": null,
   "metadata": {},
   "outputs": [],
   "source": [
    "filmi"
   ]
  },
  {
   "cell_type": "code",
   "execution_count": 4,
   "metadata": {},
   "outputs": [],
   "source": [
    "filmi_po_desetletjih = filmi.groupby('desetletje')"
   ]
  },
  {
   "cell_type": "markdown",
   "metadata": {},
   "source": [
    "Preštejemo, koliko filmov je bilo v vsakem desetletju. Pri večini stolpcev dobimo iste številke, ker imamo v vsakem stolpcu enako vnosov. Če kje kakšen podatek manjkal, je številka manjša."
   ]
  },
  {
   "cell_type": "code",
   "execution_count": null,
   "metadata": {},
   "outputs": [],
   "source": [
    "filmi_po_desetletjih.count()"
   ]
  },
  {
   "cell_type": "markdown",
   "metadata": {},
   "source": [
    "Če želimo dobiti le število članov posamezne skupine, uporabimo metodo `.size()`. V tem primeru dobimo le stolpec, ne razpredelnice."
   ]
  },
  {
   "cell_type": "code",
   "execution_count": null,
   "metadata": {},
   "outputs": [],
   "source": [
    "filmi_po_desetletjih.size()"
   ]
  },
  {
   "cell_type": "markdown",
   "metadata": {},
   "source": [
    "Pogledamo povprečja vsakega desetletja. Dobimo povprečno leto, povprečno dolžino in oceno. Povprečnega naslova ne dobimo, ker se ga ne da izračunati, zato ustreznega stolpca ni."
   ]
  },
  {
   "cell_type": "code",
   "execution_count": null,
   "metadata": {},
   "outputs": [],
   "source": [
    "filmi_po_desetletjih.mean()"
   ]
  },
  {
   "cell_type": "markdown",
   "metadata": {},
   "source": [
    "### Naloga\n",
    "\n",
    "Izračunajte število filmov posamezne dolžine, zaokrožene na 5 minut."
   ]
  },
  {
   "cell_type": "code",
   "execution_count": 6,
   "metadata": {},
   "outputs": [],
   "source": [
    "filmi['zaokrozene_dolzine'] = 5 * (filmi.dolzina // 5)"
   ]
  },
  {
   "cell_type": "code",
   "execution_count": 7,
   "metadata": {},
   "outputs": [
    {
     "data": {
      "text/html": [
       "<div>\n",
       "<style scoped>\n",
       "    .dataframe tbody tr th:only-of-type {\n",
       "        vertical-align: middle;\n",
       "    }\n",
       "\n",
       "    .dataframe tbody tr th {\n",
       "        vertical-align: top;\n",
       "    }\n",
       "\n",
       "    .dataframe thead th {\n",
       "        text-align: right;\n",
       "    }\n",
       "</style>\n",
       "<table border=\"1\" class=\"dataframe\">\n",
       "  <thead>\n",
       "    <tr style=\"text-align: right;\">\n",
       "      <th></th>\n",
       "      <th>naslov</th>\n",
       "      <th>dolzina</th>\n",
       "      <th>leto</th>\n",
       "      <th>ocena</th>\n",
       "      <th>metascore</th>\n",
       "      <th>glasovi</th>\n",
       "      <th>zasluzek</th>\n",
       "      <th>opis</th>\n",
       "      <th>desetletje</th>\n",
       "      <th>zaokrozene_dolzine</th>\n",
       "    </tr>\n",
       "    <tr>\n",
       "      <th>id</th>\n",
       "      <th></th>\n",
       "      <th></th>\n",
       "      <th></th>\n",
       "      <th></th>\n",
       "      <th></th>\n",
       "      <th></th>\n",
       "      <th></th>\n",
       "      <th></th>\n",
       "      <th></th>\n",
       "      <th></th>\n",
       "    </tr>\n",
       "  </thead>\n",
       "  <tbody>\n",
       "    <tr>\n",
       "      <th>12349</th>\n",
       "      <td>The Kid</td>\n",
       "      <td>68</td>\n",
       "      <td>1921</td>\n",
       "      <td>8.3</td>\n",
       "      <td>NaN</td>\n",
       "      <td>90443</td>\n",
       "      <td>5450000.0</td>\n",
       "      <td>The Tramp cares for an abandoned child, but ev...</td>\n",
       "      <td>1920</td>\n",
       "      <td>65</td>\n",
       "    </tr>\n",
       "    <tr>\n",
       "      <th>13442</th>\n",
       "      <td>Nosferatu, simfonija groze</td>\n",
       "      <td>94</td>\n",
       "      <td>1922</td>\n",
       "      <td>8.0</td>\n",
       "      <td>NaN</td>\n",
       "      <td>77975</td>\n",
       "      <td>NaN</td>\n",
       "      <td>Vampire Count Orlok expresses interest in a ne...</td>\n",
       "      <td>1920</td>\n",
       "      <td>90</td>\n",
       "    </tr>\n",
       "    <tr>\n",
       "      <th>15864</th>\n",
       "      <td>Zlata mrzlica</td>\n",
       "      <td>95</td>\n",
       "      <td>1925</td>\n",
       "      <td>8.2</td>\n",
       "      <td>NaN</td>\n",
       "      <td>85136</td>\n",
       "      <td>5450000.0</td>\n",
       "      <td>A prospector goes to the Klondike in search of...</td>\n",
       "      <td>1920</td>\n",
       "      <td>95</td>\n",
       "    </tr>\n",
       "    <tr>\n",
       "      <th>17136</th>\n",
       "      <td>Metropolis</td>\n",
       "      <td>153</td>\n",
       "      <td>1927</td>\n",
       "      <td>8.3</td>\n",
       "      <td>98.0</td>\n",
       "      <td>136601</td>\n",
       "      <td>26435.0</td>\n",
       "      <td>In a futuristic city sharply divided between t...</td>\n",
       "      <td>1920</td>\n",
       "      <td>150</td>\n",
       "    </tr>\n",
       "    <tr>\n",
       "      <th>17925</th>\n",
       "      <td>General</td>\n",
       "      <td>67</td>\n",
       "      <td>1926</td>\n",
       "      <td>8.2</td>\n",
       "      <td>NaN</td>\n",
       "      <td>68196</td>\n",
       "      <td>NaN</td>\n",
       "      <td>When Union spies steal an engineer's beloved l...</td>\n",
       "      <td>1920</td>\n",
       "      <td>65</td>\n",
       "    </tr>\n",
       "    <tr>\n",
       "      <th>21749</th>\n",
       "      <td>Luči velemesta</td>\n",
       "      <td>87</td>\n",
       "      <td>1931</td>\n",
       "      <td>8.5</td>\n",
       "      <td>NaN</td>\n",
       "      <td>138228</td>\n",
       "      <td>19181.0</td>\n",
       "      <td>With the aid of a wealthy erratic tippler, a d...</td>\n",
       "      <td>1930</td>\n",
       "      <td>85</td>\n",
       "    </tr>\n",
       "    <tr>\n",
       "      <th>22100</th>\n",
       "      <td>M - mesto isce morilca</td>\n",
       "      <td>117</td>\n",
       "      <td>1931</td>\n",
       "      <td>8.4</td>\n",
       "      <td>NaN</td>\n",
       "      <td>121443</td>\n",
       "      <td>28877.0</td>\n",
       "      <td>When the police in a German city are unable to...</td>\n",
       "      <td>1930</td>\n",
       "      <td>115</td>\n",
       "    </tr>\n",
       "    <tr>\n",
       "      <th>24216</th>\n",
       "      <td>King Kong</td>\n",
       "      <td>100</td>\n",
       "      <td>1933</td>\n",
       "      <td>7.9</td>\n",
       "      <td>90.0</td>\n",
       "      <td>71806</td>\n",
       "      <td>10000000.0</td>\n",
       "      <td>A film crew goes to a tropical island for an e...</td>\n",
       "      <td>1930</td>\n",
       "      <td>100</td>\n",
       "    </tr>\n",
       "    <tr>\n",
       "      <th>25316</th>\n",
       "      <td>Zgodilo se je neke noci</td>\n",
       "      <td>105</td>\n",
       "      <td>1934</td>\n",
       "      <td>8.1</td>\n",
       "      <td>87.0</td>\n",
       "      <td>81390</td>\n",
       "      <td>NaN</td>\n",
       "      <td>A spoiled heiress running away from her family...</td>\n",
       "      <td>1930</td>\n",
       "      <td>105</td>\n",
       "    </tr>\n",
       "    <tr>\n",
       "      <th>27977</th>\n",
       "      <td>Moderni časi</td>\n",
       "      <td>87</td>\n",
       "      <td>1936</td>\n",
       "      <td>8.5</td>\n",
       "      <td>96.0</td>\n",
       "      <td>179725</td>\n",
       "      <td>163245.0</td>\n",
       "      <td>The Tramp struggles to live in modern industri...</td>\n",
       "      <td>1930</td>\n",
       "      <td>85</td>\n",
       "    </tr>\n",
       "    <tr>\n",
       "      <th>...</th>\n",
       "      <td>...</td>\n",
       "      <td>...</td>\n",
       "      <td>...</td>\n",
       "      <td>...</td>\n",
       "      <td>...</td>\n",
       "      <td>...</td>\n",
       "      <td>...</td>\n",
       "      <td>...</td>\n",
       "      <td>...</td>\n",
       "      <td>...</td>\n",
       "    </tr>\n",
       "    <tr>\n",
       "      <th>5580390</th>\n",
       "      <td>Oblika vode</td>\n",
       "      <td>123</td>\n",
       "      <td>2017</td>\n",
       "      <td>7.4</td>\n",
       "      <td>87.0</td>\n",
       "      <td>255564</td>\n",
       "      <td>63859435.0</td>\n",
       "      <td>At a top secret research facility in the 1960s...</td>\n",
       "      <td>2010</td>\n",
       "      <td>120</td>\n",
       "    </tr>\n",
       "    <tr>\n",
       "      <th>5700672</th>\n",
       "      <td>Busanhaeng</td>\n",
       "      <td>118</td>\n",
       "      <td>2016</td>\n",
       "      <td>7.5</td>\n",
       "      <td>72.0</td>\n",
       "      <td>96341</td>\n",
       "      <td>2129768.0</td>\n",
       "      <td>While a zombie virus breaks out in South Korea...</td>\n",
       "      <td>2010</td>\n",
       "      <td>115</td>\n",
       "    </tr>\n",
       "    <tr>\n",
       "      <th>5715874</th>\n",
       "      <td>Ubijanje svetega jelena</td>\n",
       "      <td>121</td>\n",
       "      <td>2017</td>\n",
       "      <td>7.0</td>\n",
       "      <td>73.0</td>\n",
       "      <td>73468</td>\n",
       "      <td>2291901.0</td>\n",
       "      <td>Steven, a charismatic surgeon, is forced to ma...</td>\n",
       "      <td>2010</td>\n",
       "      <td>120</td>\n",
       "    </tr>\n",
       "    <tr>\n",
       "      <th>5726616</th>\n",
       "      <td>Pokliči me po svojem imenu</td>\n",
       "      <td>132</td>\n",
       "      <td>2017</td>\n",
       "      <td>8.0</td>\n",
       "      <td>93.0</td>\n",
       "      <td>127377</td>\n",
       "      <td>18095701.0</td>\n",
       "      <td>In 1980s Italy, a romance blossoms between a s...</td>\n",
       "      <td>2010</td>\n",
       "      <td>130</td>\n",
       "    </tr>\n",
       "    <tr>\n",
       "      <th>5776858</th>\n",
       "      <td>Phantom Thread</td>\n",
       "      <td>130</td>\n",
       "      <td>2017</td>\n",
       "      <td>7.6</td>\n",
       "      <td>90.0</td>\n",
       "      <td>71395</td>\n",
       "      <td>21023275.0</td>\n",
       "      <td>Set in 1950's London, Reynolds Woodcock is a r...</td>\n",
       "      <td>2010</td>\n",
       "      <td>130</td>\n",
       "    </tr>\n",
       "    <tr>\n",
       "      <th>5813916</th>\n",
       "      <td>Dag II</td>\n",
       "      <td>135</td>\n",
       "      <td>2016</td>\n",
       "      <td>9.4</td>\n",
       "      <td>NaN</td>\n",
       "      <td>98201</td>\n",
       "      <td>NaN</td>\n",
       "      <td>In a desolate war zone where screams of the in...</td>\n",
       "      <td>2010</td>\n",
       "      <td>135</td>\n",
       "    </tr>\n",
       "    <tr>\n",
       "      <th>5988370</th>\n",
       "      <td>Reis</td>\n",
       "      <td>108</td>\n",
       "      <td>2017</td>\n",
       "      <td>1.8</td>\n",
       "      <td>NaN</td>\n",
       "      <td>71685</td>\n",
       "      <td>NaN</td>\n",
       "      <td>A drama about the early life of Recep Tayyip E...</td>\n",
       "      <td>2010</td>\n",
       "      <td>105</td>\n",
       "    </tr>\n",
       "    <tr>\n",
       "      <th>6294822</th>\n",
       "      <td>Zamolčani dokumenti</td>\n",
       "      <td>116</td>\n",
       "      <td>2017</td>\n",
       "      <td>7.2</td>\n",
       "      <td>83.0</td>\n",
       "      <td>89674</td>\n",
       "      <td>81903458.0</td>\n",
       "      <td>A cover-up that spanned four U.S. Presidents p...</td>\n",
       "      <td>2010</td>\n",
       "      <td>115</td>\n",
       "    </tr>\n",
       "    <tr>\n",
       "      <th>6644200</th>\n",
       "      <td>A Quiet Place</td>\n",
       "      <td>90</td>\n",
       "      <td>2018</td>\n",
       "      <td>7.7</td>\n",
       "      <td>82.0</td>\n",
       "      <td>216675</td>\n",
       "      <td>188024361.0</td>\n",
       "      <td>In a post-apocalyptic world, a family is force...</td>\n",
       "      <td>2010</td>\n",
       "      <td>90</td>\n",
       "    </tr>\n",
       "    <tr>\n",
       "      <th>7784604</th>\n",
       "      <td>Hereditary</td>\n",
       "      <td>127</td>\n",
       "      <td>2018</td>\n",
       "      <td>7.3</td>\n",
       "      <td>87.0</td>\n",
       "      <td>90642</td>\n",
       "      <td>44069456.0</td>\n",
       "      <td>After the family matriarch passes away, a grie...</td>\n",
       "      <td>2010</td>\n",
       "      <td>125</td>\n",
       "    </tr>\n",
       "  </tbody>\n",
       "</table>\n",
       "<p>2500 rows × 10 columns</p>\n",
       "</div>"
      ],
      "text/plain": [
       "                             naslov  dolzina  leto  ocena  metascore  glasovi  \\\n",
       "id                                                                              \n",
       "12349                       The Kid       68  1921    8.3        NaN    90443   \n",
       "13442    Nosferatu, simfonija groze       94  1922    8.0        NaN    77975   \n",
       "15864                 Zlata mrzlica       95  1925    8.2        NaN    85136   \n",
       "17136                    Metropolis      153  1927    8.3       98.0   136601   \n",
       "17925                       General       67  1926    8.2        NaN    68196   \n",
       "21749                Luči velemesta       87  1931    8.5        NaN   138228   \n",
       "22100        M - mesto isce morilca      117  1931    8.4        NaN   121443   \n",
       "24216                     King Kong      100  1933    7.9       90.0    71806   \n",
       "25316       Zgodilo se je neke noci      105  1934    8.1       87.0    81390   \n",
       "27977                  Moderni časi       87  1936    8.5       96.0   179725   \n",
       "...                             ...      ...   ...    ...        ...      ...   \n",
       "5580390                 Oblika vode      123  2017    7.4       87.0   255564   \n",
       "5700672                  Busanhaeng      118  2016    7.5       72.0    96341   \n",
       "5715874     Ubijanje svetega jelena      121  2017    7.0       73.0    73468   \n",
       "5726616  Pokliči me po svojem imenu      132  2017    8.0       93.0   127377   \n",
       "5776858              Phantom Thread      130  2017    7.6       90.0    71395   \n",
       "5813916                      Dag II      135  2016    9.4        NaN    98201   \n",
       "5988370                        Reis      108  2017    1.8        NaN    71685   \n",
       "6294822         Zamolčani dokumenti      116  2017    7.2       83.0    89674   \n",
       "6644200               A Quiet Place       90  2018    7.7       82.0   216675   \n",
       "7784604                  Hereditary      127  2018    7.3       87.0    90642   \n",
       "\n",
       "            zasluzek                                               opis  \\\n",
       "id                                                                        \n",
       "12349      5450000.0  The Tramp cares for an abandoned child, but ev...   \n",
       "13442            NaN  Vampire Count Orlok expresses interest in a ne...   \n",
       "15864      5450000.0  A prospector goes to the Klondike in search of...   \n",
       "17136        26435.0  In a futuristic city sharply divided between t...   \n",
       "17925            NaN  When Union spies steal an engineer's beloved l...   \n",
       "21749        19181.0  With the aid of a wealthy erratic tippler, a d...   \n",
       "22100        28877.0  When the police in a German city are unable to...   \n",
       "24216     10000000.0  A film crew goes to a tropical island for an e...   \n",
       "25316            NaN  A spoiled heiress running away from her family...   \n",
       "27977       163245.0  The Tramp struggles to live in modern industri...   \n",
       "...              ...                                                ...   \n",
       "5580390   63859435.0  At a top secret research facility in the 1960s...   \n",
       "5700672    2129768.0  While a zombie virus breaks out in South Korea...   \n",
       "5715874    2291901.0  Steven, a charismatic surgeon, is forced to ma...   \n",
       "5726616   18095701.0  In 1980s Italy, a romance blossoms between a s...   \n",
       "5776858   21023275.0  Set in 1950's London, Reynolds Woodcock is a r...   \n",
       "5813916          NaN  In a desolate war zone where screams of the in...   \n",
       "5988370          NaN  A drama about the early life of Recep Tayyip E...   \n",
       "6294822   81903458.0  A cover-up that spanned four U.S. Presidents p...   \n",
       "6644200  188024361.0  In a post-apocalyptic world, a family is force...   \n",
       "7784604   44069456.0  After the family matriarch passes away, a grie...   \n",
       "\n",
       "         desetletje  zaokrozene_dolzine  \n",
       "id                                       \n",
       "12349          1920                  65  \n",
       "13442          1920                  90  \n",
       "15864          1920                  95  \n",
       "17136          1920                 150  \n",
       "17925          1920                  65  \n",
       "21749          1930                  85  \n",
       "22100          1930                 115  \n",
       "24216          1930                 100  \n",
       "25316          1930                 105  \n",
       "27977          1930                  85  \n",
       "...             ...                 ...  \n",
       "5580390        2010                 120  \n",
       "5700672        2010                 115  \n",
       "5715874        2010                 120  \n",
       "5726616        2010                 130  \n",
       "5776858        2010                 130  \n",
       "5813916        2010                 135  \n",
       "5988370        2010                 105  \n",
       "6294822        2010                 115  \n",
       "6644200        2010                  90  \n",
       "7784604        2010                 125  \n",
       "\n",
       "[2500 rows x 10 columns]"
      ]
     },
     "execution_count": 7,
     "metadata": {},
     "output_type": "execute_result"
    }
   ],
   "source": [
    "filmi"
   ]
  },
  {
   "cell_type": "code",
   "execution_count": 8,
   "metadata": {},
   "outputs": [
    {
     "data": {
      "text/plain": [
       "zaokrozene_dolzine\n",
       "110    215\n",
       "115    247\n",
       "95     264\n",
       "105    273\n",
       "100    289\n",
       "dtype: int64"
      ]
     },
     "execution_count": 8,
     "metadata": {},
     "output_type": "execute_result"
    }
   ],
   "source": [
    "filmi.groupby('zaokrozene_dolzine').size().sort_values().tail()"
   ]
  },
  {
   "cell_type": "markdown",
   "metadata": {},
   "source": [
    "## Risanje grafov"
   ]
  },
  {
   "cell_type": "code",
   "execution_count": 9,
   "metadata": {},
   "outputs": [],
   "source": [
    "# vključimo risanje grafov (če stvari začnejo delati počasneje, izklopimo možnost inline)\n",
    "%matplotlib inline"
   ]
  },
  {
   "cell_type": "markdown",
   "metadata": {},
   "source": [
    "Običajen graf dobimo z metodo `plot`. Uporabljamo ga, kadar želimo prikazati spreminjanje vrednosti v odvisnosti od zvezne spremenljivke. Naša hipoteza je, da so zlata leta filma mimo. Graf to potrjuje."
   ]
  },
  {
   "cell_type": "code",
   "execution_count": 10,
   "metadata": {},
   "outputs": [
    {
     "data": {
      "text/plain": [
       "<matplotlib.axes._subplots.AxesSubplot at 0x1f1cd698ba8>"
      ]
     },
     "execution_count": 10,
     "metadata": {},
     "output_type": "execute_result"
    },
    {
     "data": {
      "image/png": "[encoded data removed]",
      "text/plain": [
       "<Figure size 432x288 with 1 Axes>"
      ]
     },
     "metadata": {
      "needs_background": "light"
     },
     "output_type": "display_data"
    }
   ],
   "source": [
    "filmi[filmi.ocena > 8.5].groupby('desetletje').size().plot()"
   ]
  },
  {
   "cell_type": "markdown",
   "metadata": {},
   "source": [
    "Razsevni diagram dobimo z metodo `plot.scatter`. Uporabljamo ga, če želimo ugotoviti povezavo med dvema spremenljivkama."
   ]
  },
  {
   "cell_type": "code",
   "execution_count": 11,
   "metadata": {},
   "outputs": [
    {
     "data": {
      "text/plain": [
       "<matplotlib.axes._subplots.AxesSubplot at 0x1f1d81af518>"
      ]
     },
     "execution_count": 11,
     "metadata": {},
     "output_type": "execute_result"
    },
    {
     "data": {
      "image/png": "[encoded data removed]",
      "text/plain": [
       "<Figure size 432x288 with 1 Axes>"
      ]
     },
     "metadata": {
      "needs_background": "light"
     },
     "output_type": "display_data"
    }
   ],
   "source": [
    "filmi.plot.scatter('dolzina', 'ocena')"
   ]
  },
  {
   "cell_type": "code",
   "execution_count": 12,
   "metadata": {},
   "outputs": [
    {
     "data": {
      "text/plain": [
       "<matplotlib.axes._subplots.AxesSubplot at 0x1f1d8219c88>"
      ]
     },
     "execution_count": 12,
     "metadata": {},
     "output_type": "execute_result"
    },
    {
     "data": {
      "image/png": "[encoded data removed]",
      "text/plain": [
       "<Figure size 432x288 with 1 Axes>"
      ]
     },
     "metadata": {
      "needs_background": "light"
     },
     "output_type": "display_data"
    }
   ],
   "source": [
    "filmi[filmi.dolzina < 250].plot.scatter('dolzina', 'ocena')"
   ]
  },
  {
   "cell_type": "markdown",
   "metadata": {},
   "source": [
    "Stolpčni diagram dobimo z metodo `plot.bar`. Uporabljamo ga, če želimo primerjati vrednosti pri diskretnih (običajno kategoričnih) spremenljivkah. Pogosto je koristno, da graf uredimo po vrednostih."
   ]
  },
  {
   "cell_type": "code",
   "execution_count": 13,
   "metadata": {},
   "outputs": [
    {
     "data": {
      "text/plain": [
       "<matplotlib.axes._subplots.AxesSubplot at 0x1f1d8222518>"
      ]
     },
     "execution_count": 13,
     "metadata": {},
     "output_type": "execute_result"
    },
    {
     "data": {
      "image/png": "[encoded data removed]",
      "text/plain": [
       "<Figure size 432x288 with 1 Axes>"
      ]
     },
     "metadata": {
      "needs_background": "light"
     },
     "output_type": "display_data"
    }
   ],
   "source": [
    "filmi.sort_values('zasluzek', ascending=False).head(20).plot.bar(x='naslov', y='zasluzek')"
   ]
  },
  {
   "cell_type": "code",
   "execution_count": 14,
   "metadata": {},
   "outputs": [
    {
     "data": {
      "text/plain": [
       "<matplotlib.axes._subplots.AxesSubplot at 0x1f1d82920f0>"
      ]
     },
     "execution_count": 14,
     "metadata": {},
     "output_type": "execute_result"
    },
    {
     "data": {
      "image/png": "[encoded data removed]",
      "text/plain": [
       "<Figure size 432x288 with 1 Axes>"
      ]
     },
     "metadata": {
      "needs_background": "light"
     },
     "output_type": "display_data"
    }
   ],
   "source": [
    "filmi[filmi.dolzina < 250].zaokrozene_dolzine.hist()"
   ]
  },
  {
   "cell_type": "markdown",
   "metadata": {},
   "source": [
    "### Naloga\n",
    "\n",
    "Narišite grafe, ki ustrezno kažejo:\n",
    "- Povezavo med IMDB in metascore oceno\n",
    "- Spreminjanje povprečne dolžine filmov skozi leta"
   ]
  },
  {
   "cell_type": "code",
   "execution_count": 18,
   "metadata": {},
   "outputs": [
    {
     "data": {
      "text/plain": [
       "<matplotlib.axes._subplots.AxesSubplot at 0x1f1d84e3860>"
      ]
     },
     "execution_count": 18,
     "metadata": {},
     "output_type": "execute_result"
    },
    {
     "data": {
      "image/png": "[encoded data removed]",
      "text/plain": [
       "<Figure size 432x288 with 1 Axes>"
      ]
     },
     "metadata": {
      "needs_background": "light"
     },
     "output_type": "display_data"
    }
   ],
   "source": [
    "filmi[filmi['dolzina'] <= 200].plot.scatter('ocena', 'metascore')"
   ]
  },
  {
   "cell_type": "code",
   "execution_count": null,
   "metadata": {},
   "outputs": [],
   "source": []
  },
  {
   "cell_type": "markdown",
   "metadata": {},
   "source": [
    "## Stikanje"
   ]
  },
  {
   "cell_type": "code",
   "execution_count": 19,
   "metadata": {},
   "outputs": [],
   "source": [
    "osebe = pd.read_csv('obdelani-podatki/osebe.csv', index_col='id')\n",
    "vloge = pd.read_csv('obdelani-podatki/vloge.csv')\n",
    "zanri = pd.read_csv('obdelani-podatki/zanri.csv')"
   ]
  },
  {
   "cell_type": "markdown",
   "metadata": {},
   "source": [
    "Razpredelnice stikamo s funkcijo `merge`, ki vrne razpredelnico vnosov iz obeh tabel, pri katerih se vsi istoimenski podatki ujemajo."
   ]
  },
  {
   "cell_type": "code",
   "execution_count": 20,
   "metadata": {},
   "outputs": [
    {
     "data": {
      "text/html": [
       "<div>\n",
       "<style scoped>\n",
       "    .dataframe tbody tr th:only-of-type {\n",
       "        vertical-align: middle;\n",
       "    }\n",
       "\n",
       "    .dataframe tbody tr th {\n",
       "        vertical-align: top;\n",
       "    }\n",
       "\n",
       "    .dataframe thead th {\n",
       "        text-align: right;\n",
       "    }\n",
       "</style>\n",
       "<table border=\"1\" class=\"dataframe\">\n",
       "  <thead>\n",
       "    <tr style=\"text-align: right;\">\n",
       "      <th></th>\n",
       "      <th>film</th>\n",
       "      <th>oseba</th>\n",
       "      <th>vloga</th>\n",
       "    </tr>\n",
       "  </thead>\n",
       "  <tbody>\n",
       "    <tr>\n",
       "      <th>0</th>\n",
       "      <td>12349</td>\n",
       "      <td>122</td>\n",
       "      <td>igralec</td>\n",
       "    </tr>\n",
       "    <tr>\n",
       "      <th>1</th>\n",
       "      <td>12349</td>\n",
       "      <td>122</td>\n",
       "      <td>reziser</td>\n",
       "    </tr>\n",
       "    <tr>\n",
       "      <th>2</th>\n",
       "      <td>12349</td>\n",
       "      <td>1067</td>\n",
       "      <td>igralec</td>\n",
       "    </tr>\n",
       "    <tr>\n",
       "      <th>3</th>\n",
       "      <td>12349</td>\n",
       "      <td>588033</td>\n",
       "      <td>igralec</td>\n",
       "    </tr>\n",
       "    <tr>\n",
       "      <th>4</th>\n",
       "      <td>12349</td>\n",
       "      <td>701012</td>\n",
       "      <td>igralec</td>\n",
       "    </tr>\n",
       "  </tbody>\n",
       "</table>\n",
       "</div>"
      ],
      "text/plain": [
       "    film   oseba    vloga\n",
       "0  12349     122  igralec\n",
       "1  12349     122  reziser\n",
       "2  12349    1067  igralec\n",
       "3  12349  588033  igralec\n",
       "4  12349  701012  igralec"
      ]
     },
     "execution_count": 20,
     "metadata": {},
     "output_type": "execute_result"
    }
   ],
   "source": [
    "vloge[vloge.film == 12349]"
   ]
  },
  {
   "cell_type": "code",
   "execution_count": 21,
   "metadata": {},
   "outputs": [
    {
     "data": {
      "text/html": [
       "<div>\n",
       "<style scoped>\n",
       "    .dataframe tbody tr th:only-of-type {\n",
       "        vertical-align: middle;\n",
       "    }\n",
       "\n",
       "    .dataframe tbody tr th {\n",
       "        vertical-align: top;\n",
       "    }\n",
       "\n",
       "    .dataframe thead th {\n",
       "        text-align: right;\n",
       "    }\n",
       "</style>\n",
       "<table border=\"1\" class=\"dataframe\">\n",
       "  <thead>\n",
       "    <tr style=\"text-align: right;\">\n",
       "      <th></th>\n",
       "      <th>film</th>\n",
       "      <th>zanr</th>\n",
       "    </tr>\n",
       "  </thead>\n",
       "  <tbody>\n",
       "    <tr>\n",
       "      <th>0</th>\n",
       "      <td>12349</td>\n",
       "      <td>Comedy</td>\n",
       "    </tr>\n",
       "    <tr>\n",
       "      <th>1</th>\n",
       "      <td>12349</td>\n",
       "      <td>Drama</td>\n",
       "    </tr>\n",
       "    <tr>\n",
       "      <th>2</th>\n",
       "      <td>12349</td>\n",
       "      <td>Family</td>\n",
       "    </tr>\n",
       "  </tbody>\n",
       "</table>\n",
       "</div>"
      ],
      "text/plain": [
       "    film    zanr\n",
       "0  12349  Comedy\n",
       "1  12349   Drama\n",
       "2  12349  Family"
      ]
     },
     "execution_count": 21,
     "metadata": {},
     "output_type": "execute_result"
    }
   ],
   "source": [
    "zanri[zanri.film == 12349]"
   ]
  },
  {
   "cell_type": "code",
   "execution_count": 22,
   "metadata": {},
   "outputs": [
    {
     "data": {
      "text/html": [
       "<div>\n",
       "<style scoped>\n",
       "    .dataframe tbody tr th:only-of-type {\n",
       "        vertical-align: middle;\n",
       "    }\n",
       "\n",
       "    .dataframe tbody tr th {\n",
       "        vertical-align: top;\n",
       "    }\n",
       "\n",
       "    .dataframe thead th {\n",
       "        text-align: right;\n",
       "    }\n",
       "</style>\n",
       "<table border=\"1\" class=\"dataframe\">\n",
       "  <thead>\n",
       "    <tr style=\"text-align: right;\">\n",
       "      <th></th>\n",
       "      <th>film</th>\n",
       "      <th>oseba</th>\n",
       "      <th>vloga</th>\n",
       "      <th>zanr</th>\n",
       "    </tr>\n",
       "  </thead>\n",
       "  <tbody>\n",
       "    <tr>\n",
       "      <th>0</th>\n",
       "      <td>12349</td>\n",
       "      <td>122</td>\n",
       "      <td>igralec</td>\n",
       "      <td>Comedy</td>\n",
       "    </tr>\n",
       "    <tr>\n",
       "      <th>1</th>\n",
       "      <td>12349</td>\n",
       "      <td>122</td>\n",
       "      <td>igralec</td>\n",
       "      <td>Drama</td>\n",
       "    </tr>\n",
       "    <tr>\n",
       "      <th>2</th>\n",
       "      <td>12349</td>\n",
       "      <td>122</td>\n",
       "      <td>igralec</td>\n",
       "      <td>Family</td>\n",
       "    </tr>\n",
       "    <tr>\n",
       "      <th>3</th>\n",
       "      <td>12349</td>\n",
       "      <td>122</td>\n",
       "      <td>reziser</td>\n",
       "      <td>Comedy</td>\n",
       "    </tr>\n",
       "    <tr>\n",
       "      <th>4</th>\n",
       "      <td>12349</td>\n",
       "      <td>122</td>\n",
       "      <td>reziser</td>\n",
       "      <td>Drama</td>\n",
       "    </tr>\n",
       "    <tr>\n",
       "      <th>5</th>\n",
       "      <td>12349</td>\n",
       "      <td>122</td>\n",
       "      <td>reziser</td>\n",
       "      <td>Family</td>\n",
       "    </tr>\n",
       "    <tr>\n",
       "      <th>6</th>\n",
       "      <td>12349</td>\n",
       "      <td>1067</td>\n",
       "      <td>igralec</td>\n",
       "      <td>Comedy</td>\n",
       "    </tr>\n",
       "    <tr>\n",
       "      <th>7</th>\n",
       "      <td>12349</td>\n",
       "      <td>1067</td>\n",
       "      <td>igralec</td>\n",
       "      <td>Drama</td>\n",
       "    </tr>\n",
       "    <tr>\n",
       "      <th>8</th>\n",
       "      <td>12349</td>\n",
       "      <td>1067</td>\n",
       "      <td>igralec</td>\n",
       "      <td>Family</td>\n",
       "    </tr>\n",
       "    <tr>\n",
       "      <th>9</th>\n",
       "      <td>12349</td>\n",
       "      <td>588033</td>\n",
       "      <td>igralec</td>\n",
       "      <td>Comedy</td>\n",
       "    </tr>\n",
       "    <tr>\n",
       "      <th>10</th>\n",
       "      <td>12349</td>\n",
       "      <td>588033</td>\n",
       "      <td>igralec</td>\n",
       "      <td>Drama</td>\n",
       "    </tr>\n",
       "    <tr>\n",
       "      <th>11</th>\n",
       "      <td>12349</td>\n",
       "      <td>588033</td>\n",
       "      <td>igralec</td>\n",
       "      <td>Family</td>\n",
       "    </tr>\n",
       "    <tr>\n",
       "      <th>12</th>\n",
       "      <td>12349</td>\n",
       "      <td>701012</td>\n",
       "      <td>igralec</td>\n",
       "      <td>Comedy</td>\n",
       "    </tr>\n",
       "    <tr>\n",
       "      <th>13</th>\n",
       "      <td>12349</td>\n",
       "      <td>701012</td>\n",
       "      <td>igralec</td>\n",
       "      <td>Drama</td>\n",
       "    </tr>\n",
       "    <tr>\n",
       "      <th>14</th>\n",
       "      <td>12349</td>\n",
       "      <td>701012</td>\n",
       "      <td>igralec</td>\n",
       "      <td>Family</td>\n",
       "    </tr>\n",
       "    <tr>\n",
       "      <th>15</th>\n",
       "      <td>13442</td>\n",
       "      <td>3638</td>\n",
       "      <td>reziser</td>\n",
       "      <td>Fantasy</td>\n",
       "    </tr>\n",
       "    <tr>\n",
       "      <th>16</th>\n",
       "      <td>13442</td>\n",
       "      <td>3638</td>\n",
       "      <td>reziser</td>\n",
       "      <td>Horror</td>\n",
       "    </tr>\n",
       "    <tr>\n",
       "      <th>17</th>\n",
       "      <td>13442</td>\n",
       "      <td>334603</td>\n",
       "      <td>igralec</td>\n",
       "      <td>Fantasy</td>\n",
       "    </tr>\n",
       "    <tr>\n",
       "      <th>18</th>\n",
       "      <td>13442</td>\n",
       "      <td>334603</td>\n",
       "      <td>igralec</td>\n",
       "      <td>Horror</td>\n",
       "    </tr>\n",
       "    <tr>\n",
       "      <th>19</th>\n",
       "      <td>13442</td>\n",
       "      <td>775180</td>\n",
       "      <td>igralec</td>\n",
       "      <td>Fantasy</td>\n",
       "    </tr>\n",
       "  </tbody>\n",
       "</table>\n",
       "</div>"
      ],
      "text/plain": [
       "     film   oseba    vloga     zanr\n",
       "0   12349     122  igralec   Comedy\n",
       "1   12349     122  igralec    Drama\n",
       "2   12349     122  igralec   Family\n",
       "3   12349     122  reziser   Comedy\n",
       "4   12349     122  reziser    Drama\n",
       "5   12349     122  reziser   Family\n",
       "6   12349    1067  igralec   Comedy\n",
       "7   12349    1067  igralec    Drama\n",
       "8   12349    1067  igralec   Family\n",
       "9   12349  588033  igralec   Comedy\n",
       "10  12349  588033  igralec    Drama\n",
       "11  12349  588033  igralec   Family\n",
       "12  12349  701012  igralec   Comedy\n",
       "13  12349  701012  igralec    Drama\n",
       "14  12349  701012  igralec   Family\n",
       "15  13442    3638  reziser  Fantasy\n",
       "16  13442    3638  reziser   Horror\n",
       "17  13442  334603  igralec  Fantasy\n",
       "18  13442  334603  igralec   Horror\n",
       "19  13442  775180  igralec  Fantasy"
      ]
     },
     "execution_count": 22,
     "metadata": {},
     "output_type": "execute_result"
    }
   ],
   "source": [
    "pd.merge(vloge, zanri).head(20)"
   ]
  },
  {
   "cell_type": "markdown",
   "metadata": {},
   "source": [
    "V osnovi vsebuje staknjena razpredelnica le tiste vnose, ki se pojavijo v obeh tabelah. Temu principu pravimo notranji stik (_inner join_). Lahko pa se odločimo, da izberemo tudi tiste vnose, ki imajo podatke le v levi tabeli (_left join_), le v desni tabeli (_right join_) ali v vsaj eni tabeli (_outer join_). Če v eni tabeli ni vnosov, bodo v staknjeni tabeli označene manjkajoče vrednosti. Ker smo v našem primeru podatke jemali iz IMDBja, kjer so za vsak film določeni tako žanri kot vloge, do razlik ne pride."
   ]
  },
  {
   "cell_type": "markdown",
   "metadata": {},
   "source": [
    "Včasih želimo stikati po stolpcih z različnimi imeni. V tem primeru funkciji *merge* podamo argument *left_on* in *right_on*."
   ]
  },
  {
   "cell_type": "code",
   "execution_count": 28,
   "metadata": {},
   "outputs": [
    {
     "data": {
      "text/html": [
       "<div>\n",
       "<style scoped>\n",
       "    .dataframe tbody tr th:only-of-type {\n",
       "        vertical-align: middle;\n",
       "    }\n",
       "\n",
       "    .dataframe tbody tr th {\n",
       "        vertical-align: top;\n",
       "    }\n",
       "\n",
       "    .dataframe thead th {\n",
       "        text-align: right;\n",
       "    }\n",
       "</style>\n",
       "<table border=\"1\" class=\"dataframe\">\n",
       "  <thead>\n",
       "    <tr style=\"text-align: right;\">\n",
       "      <th></th>\n",
       "      <th>film</th>\n",
       "      <th>oseba</th>\n",
       "      <th>vloga</th>\n",
       "      <th>zanr</th>\n",
       "      <th>ime</th>\n",
       "    </tr>\n",
       "  </thead>\n",
       "  <tbody>\n",
       "    <tr>\n",
       "      <th>0</th>\n",
       "      <td>12349</td>\n",
       "      <td>122</td>\n",
       "      <td>igralec</td>\n",
       "      <td>Comedy</td>\n",
       "      <td>Charles Chaplin</td>\n",
       "    </tr>\n",
       "    <tr>\n",
       "      <th>1</th>\n",
       "      <td>12349</td>\n",
       "      <td>122</td>\n",
       "      <td>igralec</td>\n",
       "      <td>Drama</td>\n",
       "      <td>Charles Chaplin</td>\n",
       "    </tr>\n",
       "    <tr>\n",
       "      <th>2</th>\n",
       "      <td>12349</td>\n",
       "      <td>122</td>\n",
       "      <td>igralec</td>\n",
       "      <td>Family</td>\n",
       "      <td>Charles Chaplin</td>\n",
       "    </tr>\n",
       "    <tr>\n",
       "      <th>3</th>\n",
       "      <td>12349</td>\n",
       "      <td>122</td>\n",
       "      <td>reziser</td>\n",
       "      <td>Comedy</td>\n",
       "      <td>Charles Chaplin</td>\n",
       "    </tr>\n",
       "    <tr>\n",
       "      <th>4</th>\n",
       "      <td>12349</td>\n",
       "      <td>122</td>\n",
       "      <td>reziser</td>\n",
       "      <td>Drama</td>\n",
       "      <td>Charles Chaplin</td>\n",
       "    </tr>\n",
       "    <tr>\n",
       "      <th>5</th>\n",
       "      <td>12349</td>\n",
       "      <td>122</td>\n",
       "      <td>reziser</td>\n",
       "      <td>Family</td>\n",
       "      <td>Charles Chaplin</td>\n",
       "    </tr>\n",
       "    <tr>\n",
       "      <th>6</th>\n",
       "      <td>15864</td>\n",
       "      <td>122</td>\n",
       "      <td>igralec</td>\n",
       "      <td>Adventure</td>\n",
       "      <td>Charles Chaplin</td>\n",
       "    </tr>\n",
       "    <tr>\n",
       "      <th>7</th>\n",
       "      <td>15864</td>\n",
       "      <td>122</td>\n",
       "      <td>igralec</td>\n",
       "      <td>Comedy</td>\n",
       "      <td>Charles Chaplin</td>\n",
       "    </tr>\n",
       "    <tr>\n",
       "      <th>8</th>\n",
       "      <td>15864</td>\n",
       "      <td>122</td>\n",
       "      <td>igralec</td>\n",
       "      <td>Drama</td>\n",
       "      <td>Charles Chaplin</td>\n",
       "    </tr>\n",
       "    <tr>\n",
       "      <th>9</th>\n",
       "      <td>15864</td>\n",
       "      <td>122</td>\n",
       "      <td>reziser</td>\n",
       "      <td>Adventure</td>\n",
       "      <td>Charles Chaplin</td>\n",
       "    </tr>\n",
       "    <tr>\n",
       "      <th>...</th>\n",
       "      <td>...</td>\n",
       "      <td>...</td>\n",
       "      <td>...</td>\n",
       "      <td>...</td>\n",
       "      <td>...</td>\n",
       "    </tr>\n",
       "    <tr>\n",
       "      <th>33694</th>\n",
       "      <td>6644200</td>\n",
       "      <td>8075925</td>\n",
       "      <td>igralec</td>\n",
       "      <td>Mystery</td>\n",
       "      <td>Millicent Simmonds</td>\n",
       "    </tr>\n",
       "    <tr>\n",
       "      <th>33695</th>\n",
       "      <td>7784604</td>\n",
       "      <td>1842974</td>\n",
       "      <td>igralec</td>\n",
       "      <td>Drama</td>\n",
       "      <td>Alex Wolff</td>\n",
       "    </tr>\n",
       "    <tr>\n",
       "      <th>33696</th>\n",
       "      <td>7784604</td>\n",
       "      <td>1842974</td>\n",
       "      <td>igralec</td>\n",
       "      <td>Horror</td>\n",
       "      <td>Alex Wolff</td>\n",
       "    </tr>\n",
       "    <tr>\n",
       "      <th>33697</th>\n",
       "      <td>7784604</td>\n",
       "      <td>1842974</td>\n",
       "      <td>igralec</td>\n",
       "      <td>Mystery</td>\n",
       "      <td>Alex Wolff</td>\n",
       "    </tr>\n",
       "    <tr>\n",
       "      <th>33698</th>\n",
       "      <td>7784604</td>\n",
       "      <td>4170048</td>\n",
       "      <td>reziser</td>\n",
       "      <td>Drama</td>\n",
       "      <td>Ari Aster</td>\n",
       "    </tr>\n",
       "    <tr>\n",
       "      <th>33699</th>\n",
       "      <td>7784604</td>\n",
       "      <td>4170048</td>\n",
       "      <td>reziser</td>\n",
       "      <td>Horror</td>\n",
       "      <td>Ari Aster</td>\n",
       "    </tr>\n",
       "    <tr>\n",
       "      <th>33700</th>\n",
       "      <td>7784604</td>\n",
       "      <td>4170048</td>\n",
       "      <td>reziser</td>\n",
       "      <td>Mystery</td>\n",
       "      <td>Ari Aster</td>\n",
       "    </tr>\n",
       "    <tr>\n",
       "      <th>33701</th>\n",
       "      <td>7784604</td>\n",
       "      <td>8412536</td>\n",
       "      <td>igralec</td>\n",
       "      <td>Drama</td>\n",
       "      <td>Milly Shapiro</td>\n",
       "    </tr>\n",
       "    <tr>\n",
       "      <th>33702</th>\n",
       "      <td>7784604</td>\n",
       "      <td>8412536</td>\n",
       "      <td>igralec</td>\n",
       "      <td>Horror</td>\n",
       "      <td>Milly Shapiro</td>\n",
       "    </tr>\n",
       "    <tr>\n",
       "      <th>33703</th>\n",
       "      <td>7784604</td>\n",
       "      <td>8412536</td>\n",
       "      <td>igralec</td>\n",
       "      <td>Mystery</td>\n",
       "      <td>Milly Shapiro</td>\n",
       "    </tr>\n",
       "  </tbody>\n",
       "</table>\n",
       "<p>33704 rows × 5 columns</p>\n",
       "</div>"
      ],
      "text/plain": [
       "          film    oseba    vloga       zanr                 ime\n",
       "0        12349      122  igralec     Comedy     Charles Chaplin\n",
       "1        12349      122  igralec      Drama     Charles Chaplin\n",
       "2        12349      122  igralec     Family     Charles Chaplin\n",
       "3        12349      122  reziser     Comedy     Charles Chaplin\n",
       "4        12349      122  reziser      Drama     Charles Chaplin\n",
       "5        12349      122  reziser     Family     Charles Chaplin\n",
       "6        15864      122  igralec  Adventure     Charles Chaplin\n",
       "7        15864      122  igralec     Comedy     Charles Chaplin\n",
       "8        15864      122  igralec      Drama     Charles Chaplin\n",
       "9        15864      122  reziser  Adventure     Charles Chaplin\n",
       "...        ...      ...      ...        ...                 ...\n",
       "33694  6644200  8075925  igralec    Mystery  Millicent Simmonds\n",
       "33695  7784604  1842974  igralec      Drama          Alex Wolff\n",
       "33696  7784604  1842974  igralec     Horror          Alex Wolff\n",
       "33697  7784604  1842974  igralec    Mystery          Alex Wolff\n",
       "33698  7784604  4170048  reziser      Drama           Ari Aster\n",
       "33699  7784604  4170048  reziser     Horror           Ari Aster\n",
       "33700  7784604  4170048  reziser    Mystery           Ari Aster\n",
       "33701  7784604  8412536  igralec      Drama       Milly Shapiro\n",
       "33702  7784604  8412536  igralec     Horror       Milly Shapiro\n",
       "33703  7784604  8412536  igralec    Mystery       Milly Shapiro\n",
       "\n",
       "[33704 rows x 5 columns]"
      ]
     },
     "execution_count": 28,
     "metadata": {},
     "output_type": "execute_result"
    }
   ],
   "source": [
    "pd.merge(pd.merge(vloge, zanri), osebe, left_on='oseba', right_on='id')"
   ]
  },
  {
   "cell_type": "markdown",
   "metadata": {},
   "source": [
    "Poglejmo, katera osebe so nastopale v največ komedijah."
   ]
  },
  {
   "cell_type": "code",
   "execution_count": null,
   "metadata": {},
   "outputs": [],
   "source": [
    "zanri_oseb = pd.merge(pd.merge(vloge, zanri), osebe, left_on='oseba', right_on='id')\n",
    "zanri_oseb[\n",
    "    (zanri_oseb.zanr == 'Comedy') &\n",
    "    (zanri_oseb.vloga == 'igralec')\n",
    "].groupby(\n",
    "    'ime'\n",
    ").size(\n",
    ").sort_values(\n",
    "    ascending=False\n",
    ").head(20)"
   ]
  },
  {
   "cell_type": "markdown",
   "metadata": {},
   "source": [
    "### Naloga\n",
    "\n",
    "- Izračunajte povprečno oceno vsakega žanra.\n",
    "- Kateri režiserji snemajo najdonosnejše filme?"
   ]
  },
  {
   "cell_type": "code",
   "execution_count": 34,
   "metadata": {},
   "outputs": [
    {
     "data": {
      "text/plain": [
       "<matplotlib.axes._subplots.AxesSubplot at 0x1f1d85fdc18>"
      ]
     },
     "execution_count": 34,
     "metadata": {},
     "output_type": "execute_result"
    },
    {
     "data": {
      "image/png": "[encoded data removed]",
      "text/plain": [
       "<Figure size 432x288 with 1 Axes>"
      ]
     },
     "metadata": {
      "needs_background": "light"
     },
     "output_type": "display_data"
    }
   ],
   "source": [
    "pd.merge(filmi, zanri, left_on = 'id', right_on = 'film'\n",
    "        ).groupby('zanr'\n",
    "                 ).ocena.mean(\n",
    ").sort_values(ascending=False\n",
    "             ).plot.bar()"
   ]
  },
  {
   "cell_type": "code",
   "execution_count": 36,
   "metadata": {},
   "outputs": [
    {
     "data": {
      "text/plain": [
       "ime\n",
       "Angus MacLane        4.862956e+08\n",
       "Kelly Asbury         4.364710e+08\n",
       "Jennifer Lee         4.007380e+08\n",
       "Joss Whedon          3.692928e+08\n",
       "Yarrow Cheney        3.683843e+08\n",
       "Tim Miller           3.630707e+08\n",
       "Ronnie Del Carmen    3.564617e+08\n",
       "Anthony Russo        3.555736e+08\n",
       "Joe Russo            3.555736e+08\n",
       "Jared Bush           3.412682e+08\n",
       "                         ...     \n",
       "Richard Schenkman             NaN\n",
       "Robert Mulligan               NaN\n",
       "Robert Rossen                 NaN\n",
       "S. Craig Zahler               NaN\n",
       "Sam Peckinpah                 NaN\n",
       "Stuart Hazeldine              NaN\n",
       "Stuart Rosenberg              NaN\n",
       "Takashi Miike                 NaN\n",
       "Timo Vuorensola               NaN\n",
       "Tommy Wiseau                  NaN\n",
       "Name: zasluzek, Length: 1106, dtype: float64"
      ]
     },
     "execution_count": 36,
     "metadata": {},
     "output_type": "execute_result"
    }
   ],
   "source": [
    "reziserji = pd.merge(vloge[vloge.vloga == 'reziser'], osebe, left_on='oseba', right_on='id')\n",
    "pd.merge(filmi, reziserji\n",
    "                      , left_on='id',right_on='film'\n",
    "                      ).groupby('ime'\n",
    "                               ).zasluzek.mean().sort_values(ascending=False)"
   ]
  },
  {
   "cell_type": "markdown",
   "metadata": {},
   "source": [
    "## Zahtevnejši primer: naivni Bayesov klasifikator"
   ]
  },
  {
   "cell_type": "markdown",
   "metadata": {},
   "source": [
    "Zanima nas, ali lahko iz opisa filma napovemo njegove žanre. Gre za _klasifikacijski problem_, saj želimo filme klasificirati v žanre, naša naloga pa je napisati ustrezen program, ki mu pravimo _klasifikator_. Da zadevo naredimo bolj obvladljivo, bomo opis predstavili le z množico korenov besed, ki se v opisu pojavljajo."
   ]
  },
  {
   "cell_type": "code",
   "execution_count": null,
   "metadata": {},
   "outputs": [],
   "source": [
    "def koren_besede(beseda):\n",
    "    beseda = ''.join(znak for znak in beseda if znak.isalpha())\n",
    "    if not beseda:\n",
    "        return '$'\n",
    "    konec = len(beseda) - 1\n",
    "    if beseda[konec] in 'ds':\n",
    "        konec -= 1\n",
    "    while konec >= 0 and beseda[konec] in 'aeiou':\n",
    "        konec -= 1\n",
    "    return beseda[:konec + 1]\n",
    "\n",
    "def koreni_besed(niz):\n",
    "    return {\n",
    "        koren_besede(beseda) for beseda in niz.replace('-', ' ').lower().split() if beseda\n",
    "    }"
   ]
  },
  {
   "cell_type": "code",
   "execution_count": null,
   "metadata": {},
   "outputs": [],
   "source": [
    "koreni_besed(\"In 1938, after his father Professor Henry Jones, Sr. goes missing while pursuing the Holy Grail, Indiana Jones finds himself up against Adolf Hitler's Nazis again to stop them obtaining its powers.\")"
   ]
  },
  {
   "cell_type": "markdown",
   "metadata": {},
   "source": [
    "Zanimala nas bo torej verjetnost, da ima film žanr $Ž_i$ ob pogoju, da njegov opis vsebuje korene $K_1, \\ldots, K_m$, torej\n",
    "\n",
    "$$P(Ž_i | K_1 \\cap \\cdots \\cap K_n)$$\n",
    "\n",
    "Pri tem se bomo poslužili Bayesovega izreka\n",
    "\n",
    "$$P(A | B) = \\frac{P(A \\cap B)}{P(B)} = \\frac{P(B | A) \\cdot P(A)}{P(B)}$$\n",
    "\n",
    "zaradi česar našemu klasifikatorju pravimo _Bayesov klasifikator_. Velja\n",
    "\n",
    "$$P(Ž_i | K_1 \\cap \\cdots \\cap K_n) = \\frac{P(K_1 \\cap \\cdots \\cap K_n | Ž_i) \\cdot P(Ž_i)}{P(K_1 \\cap \\cdots \\cap K_n)}$$\n",
    "\n",
    "Nadalje si nalogo poenostavimo s predpostavko, da so pojavitve besed med seboj neodvisne. To sicer ni res, na primer ob besedi _treasure_ se bolj pogosto pojavlja beseda _hidden_ kot na primer _boring_, zato pravimo, da je klasifikator _naiven_. Ob tej predpostavki velja:\n",
    "\n",
    "$$P(K_1 \\cap \\cdots \\cap K_n | Ž_i) = P(K_1 | Ž_i) \\cdot \\cdots \\cdot P(K_n | Ž_i)$$\n",
    "\n",
    "oziroma\n",
    "\n",
    "$$P(Ž_i | K_1 \\cap \\cdots \\cap K_n) = \\frac{P(K_1 | Ž_i) \\cdot \\cdots \\cdot P(K_n | Ž_i) \\cdot P(Ž_i)}{P(K_1 \\cap \\cdots \\cap K_n)}$$\n",
    "\n",
    "Filmu, katerega opis vsebuje korene $K_1, \\dots, K_n$ bomo priredili tiste žanre $Ž_i$, pri katerih je dana verjetnost največja. Ker imenovalec ni odvisen od žanra, moramo torej za vsak $Ž_i$ izračunati le števec:\n",
    "\n",
    "$$P(K_1 | Ž_i) \\cdot \\cdots \\cdot P(K_n | Ž_i) \\cdot P(Ž_i)$$\n",
    "\n",
    "Vse te podatke znamo izračunati, zato se lahko lotimo dela."
   ]
  },
  {
   "cell_type": "markdown",
   "metadata": {},
   "source": [
    "Verjetnost posameznega žanra $P(Ž)$ izračunamo brez večjih težav:"
   ]
  },
  {
   "cell_type": "code",
   "execution_count": null,
   "metadata": {},
   "outputs": [],
   "source": [
    "verjetnosti_zanrov = zanri.groupby('zanr').size() / len(filmi)\n",
    "verjetnosti_zanrov"
   ]
  },
  {
   "cell_type": "markdown",
   "metadata": {},
   "source": [
    "Verjetnosti $P(K|Ž)$ bomo shranili v razpredelnico, v kateri bodo vrstice ustrezale korenom $K$, stolpci pa žanrom $Ž$. Najprej moramo poiskati vse filme, ki imajo žanr $Ž$, njihov opis pa vsebuje koren $K$. Vzemimo vse opise filmov:"
   ]
  },
  {
   "cell_type": "code",
   "execution_count": null,
   "metadata": {},
   "outputs": [],
   "source": [
    "filmi.opis"
   ]
  },
  {
   "cell_type": "markdown",
   "metadata": {},
   "source": [
    "To vrsto nizov pretvorimo v vrsto množic besed. Uporabimo metodo `apply`, ki dano funkcijo uporabi na vsakem vnosu."
   ]
  },
  {
   "cell_type": "code",
   "execution_count": null,
   "metadata": {},
   "outputs": [],
   "source": [
    "filmi.opis.apply(\n",
    "    koreni_besed\n",
    ")"
   ]
  },
  {
   "cell_type": "markdown",
   "metadata": {},
   "source": [
    "Po nekaj [iskanja po internetu](https://stackoverflow.com/questions/30885005/pandas-series-of-lists-to-one-series) in masiranja pridemo do iskane razpredelnice:"
   ]
  },
  {
   "cell_type": "code",
   "execution_count": null,
   "metadata": {},
   "outputs": [],
   "source": [
    "koreni_filmov = filmi.opis.apply(\n",
    "    koreni_besed\n",
    ").apply(\n",
    "    list\n",
    ").apply(\n",
    "    pd.Series\n",
    ").stack(\n",
    ").reset_index(\n",
    "    level='id'\n",
    ").rename(columns={\n",
    "    'id': 'film',\n",
    "    0: 'koren',\n",
    "})\n",
    "koreni_filmov"
   ]
  },
  {
   "cell_type": "markdown",
   "metadata": {},
   "source": [
    "Razpredelnico združimo z razpredelnico žanrov, da dobimo razpredelnico korenov žanrov."
   ]
  },
  {
   "cell_type": "code",
   "execution_count": null,
   "metadata": {},
   "outputs": [],
   "source": [
    "koreni_zanrov = pd.merge(\n",
    "    koreni_filmov,\n",
    "    zanri\n",
    ")[['koren', 'zanr']]\n",
    "koreni_zanrov"
   ]
  },
  {
   "cell_type": "markdown",
   "metadata": {},
   "source": [
    "S pomočjo funkcije `crosstab` preštejemo, kolikokrat se vsaka kombinacija pojavi."
   ]
  },
  {
   "cell_type": "code",
   "execution_count": null,
   "metadata": {},
   "outputs": [],
   "source": [
    "pojavitve_korenov_po_zanrih = pd.crosstab(koreni_zanrov.koren, koreni_zanrov.zanr)\n",
    "pojavitve_korenov_po_zanrih"
   ]
  },
  {
   "cell_type": "markdown",
   "metadata": {},
   "source": [
    "Iskane verjetnosti sedaj dobimo tako, da vsak stolpec delimo s številom filmov danega žanra. Da ne bomo dobili ničelne verjetnosti pri korenih, ki se v našem vzorcu ne pojavijo, verjetnost malenkost povečamo."
   ]
  },
  {
   "cell_type": "code",
   "execution_count": null,
   "metadata": {},
   "outputs": [],
   "source": [
    "verjetnosti_korenov_po_zanrih = pojavitve_korenov_po_zanrih / zanri.groupby('zanr').size() + 0.001"
   ]
  },
  {
   "cell_type": "markdown",
   "metadata": {},
   "source": [
    "Poglejmo, kaj so najpogostejši koreni pri nekaj žanrih:"
   ]
  },
  {
   "cell_type": "code",
   "execution_count": null,
   "metadata": {},
   "outputs": [],
   "source": [
    "verjetnosti_korenov_po_zanrih.Crime.sort_values(ascending=False).head(20)"
   ]
  },
  {
   "cell_type": "code",
   "execution_count": null,
   "metadata": {},
   "outputs": [],
   "source": [
    "verjetnosti_korenov_po_zanrih.Romance.sort_values(ascending=False).head(20)"
   ]
  },
  {
   "cell_type": "code",
   "execution_count": null,
   "metadata": {},
   "outputs": [],
   "source": [
    "verjetnosti_korenov_po_zanrih['Sci-Fi'].sort_values(ascending=False).head(20)"
   ]
  },
  {
   "cell_type": "markdown",
   "metadata": {},
   "source": [
    "Žanre sedaj določimo tako, da za vsak žanr pomnožimo verjetnost žanra in pogojne verjetnosti vseh korenov, ki nastopajo v opisu filma."
   ]
  },
  {
   "cell_type": "code",
   "execution_count": null,
   "metadata": {},
   "outputs": [],
   "source": [
    "def doloci_zanre(opis):\n",
    "    faktorji_zanrov = verjetnosti_zanrov * verjetnosti_korenov_po_zanrih[\n",
    "        verjetnosti_korenov_po_zanrih.index.isin(\n",
    "            koreni_besed(opis)\n",
    "        )\n",
    "    ].prod()\n",
    "    faktorji_zanrov /= max(faktorji_zanrov)\n",
    "    return faktorji_zanrov.sort_values(ascending=False).head(5)"
   ]
  },
  {
   "cell_type": "code",
   "execution_count": null,
   "metadata": {},
   "outputs": [],
   "source": [
    "doloci_zanre('Alien space ship appears above Slovenia.')"
   ]
  },
  {
   "cell_type": "code",
   "execution_count": null,
   "metadata": {},
   "outputs": [],
   "source": [
    "doloci_zanre('A story about a young mathematician, who discovers her artistic side')"
   ]
  }
 ],
 "metadata": {
  "kernelspec": {
   "display_name": "Python 3",
   "language": "python",
   "name": "python3"
  },
  "language_info": {
   "codemirror_mode": {
    "name": "ipython",
    "version": 3
   },
   "file_extension": ".py",
   "mimetype": "text/x-python",
   "name": "python",
   "nbconvert_exporter": "python",
   "pygments_lexer": "ipython3",
   "version": "3.7.0"
  }
 },
 "nbformat": 4,
 "nbformat_minor": 1
}
